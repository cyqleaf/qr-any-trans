{
 "cells": [
  {
   "cell_type": "code",
   "execution_count": 8,
   "metadata": {},
   "outputs": [
    {
     "name": "stdout",
     "output_type": "stream",
     "text": [
      "f8cd54d086f9e251dfb068c4b2cbdfd9\n"
     ]
    }
   ],
   "source": [
    "import hashlib\n",
    "print(hashlib.md5(\"dddddddddddddddddddddddddddddddddd\".encode(\"UTF-8\")).hexdigest())"
   ]
  },
  {
   "cell_type": "code",
   "execution_count": 11,
   "metadata": {},
   "outputs": [
    {
     "name": "stdout",
     "output_type": "stream",
     "text": [
      "15\n"
     ]
    }
   ],
   "source": [
    "from lib.transfer.TransferV1 import HandshakeDataV1, HandshakePkgV1\n",
    "from lib.transfer.TransConfigBase import *\n",
    "import json\n",
    "import qrcode\n",
    "hs_data = HandshakeDataV1(\"test.jpg\", 100, \".jpg\", \"udaked\", \"single_color\", \"1.0\", ConfirmMethod.NO_CFM)\n",
    "hs_pkg = HandshakePkgV1(True, StatusCode.OK, \"OK\", \"uuid_test\", hs_data)\n",
    "\n",
    "hs_pkg_json_str = json.dumps(hs_pkg.__dict__)\n",
    "\n",
    "qr = qrcode.QRCode(version=None, error_correction=qrcode.ERROR_CORRECT_M)\n",
    "qr.add_data(hs_pkg_json_str)\n",
    "qr.best_fit()\n",
    "print(qr.version)\n",
    "\n",
    "im = qr.make_image()\n",
    "im.show()\n",
    "\n"
   ]
  },
  {
   "cell_type": "code",
   "execution_count": 16,
   "metadata": {},
   "outputs": [
    {
     "data": {
      "text/plain": [
       "'jpg'"
      ]
     },
     "execution_count": 16,
     "metadata": {},
     "output_type": "execute_result"
    }
   ],
   "source": [
    "import math\n",
    "\"go.v1.v2.jpg\"[::-1].split(\".\")[0][::-1]"
   ]
  },
  {
   "cell_type": "code",
   "execution_count": 40,
   "metadata": {},
   "outputs": [
    {
     "name": "stdout",
     "output_type": "stream",
     "text": [
      "97\n",
      "b'# qr-any-t'\n",
      "0\n",
      "IyBxci1hbnktdA==\n"
     ]
    }
   ],
   "source": [
    "from io import BytesIO\n",
    "import hashlib\n",
    "import base64\n",
    "with open(\"README.md\",\"rb\") as mdfile:\n",
    "    bio = BytesIO()\n",
    "    bio.write(mdfile.read())\n",
    "    bio.seek(0,2)\n",
    "    print(bio.tell())\n",
    "    bio.seek(0,0)\n",
    "    a = bio.read(10)\n",
    "    bio.seek(0,0)\n",
    "    print(a)\n",
    "    print(bio.tell())\n",
    "\n",
    "    print(base64.b64encode(a).decode(\"ascii\"))\n",
    "\n"
   ]
  },
  {
   "cell_type": "code",
   "execution_count": 49,
   "metadata": {},
   "outputs": [
    {
     "name": "stdout",
     "output_type": "stream",
     "text": [
      "250000\n",
      "250000\n",
      "34\n"
     ]
    }
   ],
   "source": [
    "import qrcode, base64\n",
    "\n",
    "test_str = \"doyouhear the people sing\" * 10000\n",
    "print(len(test_str))\n",
    "\n",
    "bs = test_str.encode(\"utf-8\")\n",
    "print(len(bs))\n",
    "\n",
    "qr = qrcode.QRCode(version=15, error_correction= qrcode.ERROR_CORRECT_M)\n",
    "encoded = base64.b64encode(bs[:1280]).decode(\"utf-8\")\n",
    "qr.add_data(encoded)\n",
    "\n",
    "qr.best_fit()\n",
    "\n",
    "print(qr.version)\n",
    "\n",
    "im = qr.make_image()\n",
    "im.show()\n"
   ]
  }
 ],
 "metadata": {
  "interpreter": {
   "hash": "f42f00a8df384ceb7c50c75452b1ac86ce79e5f2e0d81fb26e165ce164a13a5d"
  },
  "kernelspec": {
   "display_name": "Python 3.10.2 ('venv': venv)",
   "language": "python",
   "name": "python3"
  },
  "language_info": {
   "codemirror_mode": {
    "name": "ipython",
    "version": 3
   },
   "file_extension": ".py",
   "mimetype": "text/x-python",
   "name": "python",
   "nbconvert_exporter": "python",
   "pygments_lexer": "ipython3",
   "version": "3.10.2"
  },
  "orig_nbformat": 4
 },
 "nbformat": 4,
 "nbformat_minor": 2
}
