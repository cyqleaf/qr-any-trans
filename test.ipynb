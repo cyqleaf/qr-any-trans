{
 "cells": [
  {
   "cell_type": "code",
   "execution_count": 8,
   "metadata": {},
   "outputs": [
    {
     "name": "stdout",
     "output_type": "stream",
     "text": [
      "f8cd54d086f9e251dfb068c4b2cbdfd9\n"
     ]
    }
   ],
   "source": [
    "import hashlib\n",
    "print(hashlib.md5(\"dddddddddddddddddddddddddddddddddd\".encode(\"UTF-8\")).hexdigest())"
   ]
  },
  {
   "cell_type": "code",
   "execution_count": 2,
   "metadata": {},
   "outputs": [
    {
     "ename": "ModuleNotFoundError",
     "evalue": "No module named 'TransConfigBase'",
     "output_type": "error",
     "traceback": [
      "\u001b[0;31m---------------------------------------------------------------------------\u001b[0m",
      "\u001b[0;31mModuleNotFoundError\u001b[0m                       Traceback (most recent call last)",
      "\u001b[1;32m/Users/hongxiao/Documents/Code/qranytrans/pytk/qr-any-trans/test.ipynb Cell 2'\u001b[0m in \u001b[0;36m<cell line: 1>\u001b[0;34m()\u001b[0m\n\u001b[0;32m----> <a href='vscode-notebook-cell:/Users/hongxiao/Documents/Code/qranytrans/pytk/qr-any-trans/test.ipynb#ch0000001?line=0'>1</a>\u001b[0m \u001b[39mfrom\u001b[39;00m \u001b[39mlib\u001b[39;00m\u001b[39m.\u001b[39;00m\u001b[39mtransfer\u001b[39;00m\u001b[39m.\u001b[39;00m\u001b[39mTransferV1\u001b[39;00m \u001b[39mimport\u001b[39;00m HandshakeDataV1, HandshakePkgV1\n\u001b[1;32m      <a href='vscode-notebook-cell:/Users/hongxiao/Documents/Code/qranytrans/pytk/qr-any-trans/test.ipynb#ch0000001?line=1'>2</a>\u001b[0m \u001b[39mfrom\u001b[39;00m \u001b[39mlib\u001b[39;00m\u001b[39m.\u001b[39;00m\u001b[39mtransfer\u001b[39;00m\u001b[39m.\u001b[39;00m\u001b[39mTransConfigBase\u001b[39;00m \u001b[39mimport\u001b[39;00m \u001b[39m*\u001b[39m\n\u001b[1;32m      <a href='vscode-notebook-cell:/Users/hongxiao/Documents/Code/qranytrans/pytk/qr-any-trans/test.ipynb#ch0000001?line=2'>3</a>\u001b[0m hs_data \u001b[39m=\u001b[39m HandshakeDataV1(\u001b[39m\"\u001b[39m\u001b[39mtest.jpg\u001b[39m\u001b[39m\"\u001b[39m, \u001b[39m100\u001b[39m, \u001b[39m\"\u001b[39m\u001b[39m.jpg\u001b[39m\u001b[39m\"\u001b[39m, \u001b[39m\"\u001b[39m\u001b[39mudaked\u001b[39m\u001b[39m\"\u001b[39m, \u001b[39m\"\u001b[39m\u001b[39msingle_color\u001b[39m\u001b[39m\"\u001b[39m, \u001b[39m\"\u001b[39m\u001b[39m1.0\u001b[39m\u001b[39m\"\u001b[39m, ConfirmMethod\u001b[39m.\u001b[39mNO_CFM)\n",
      "File \u001b[0;32m~/Documents/Code/qranytrans/pytk/qr-any-trans/lib/transfer/TransferV1.py:4\u001b[0m, in \u001b[0;36m<module>\u001b[0;34m\u001b[0m\n\u001b[1;32m      <a href='file:///Users/hongxiao/Documents/Code/qranytrans/pytk/qr-any-trans/lib/transfer/TransferV1.py?line=0'>1</a>\u001b[0m \u001b[39m#coding:utf-8\u001b[39;00m\n\u001b[1;32m      <a href='file:///Users/hongxiao/Documents/Code/qranytrans/pytk/qr-any-trans/lib/transfer/TransferV1.py?line=2'>3</a>\u001b[0m \u001b[39mfrom\u001b[39;00m \u001b[39m.\u001b[39;00m\u001b[39m.\u001b[39;00m\u001b[39mutils\u001b[39;00m \u001b[39mimport\u001b[39;00m StringUtil\n\u001b[0;32m----> <a href='file:///Users/hongxiao/Documents/Code/qranytrans/pytk/qr-any-trans/lib/transfer/TransferV1.py?line=3'>4</a>\u001b[0m \u001b[39mfrom\u001b[39;00m \u001b[39mTransConfigBase\u001b[39;00m \u001b[39mimport\u001b[39;00m ConfirmMethod, StatusCode, TransferBase\n\u001b[1;32m      <a href='file:///Users/hongxiao/Documents/Code/qranytrans/pytk/qr-any-trans/lib/transfer/TransferV1.py?line=4'>5</a>\u001b[0m \u001b[39mimport\u001b[39;00m \u001b[39mhashlib\u001b[39;00m\u001b[39m,\u001b[39m \u001b[39mjson\u001b[39;00m\n\u001b[1;32m      <a href='file:///Users/hongxiao/Documents/Code/qranytrans/pytk/qr-any-trans/lib/transfer/TransferV1.py?line=7'>8</a>\u001b[0m \u001b[39mclass\u001b[39;00m \u001b[39mTransferV1\u001b[39;00m(TransferBase):\n",
      "\u001b[0;31mModuleNotFoundError\u001b[0m: No module named 'TransConfigBase'"
     ]
    }
   ],
   "source": [
    "from lib.transfer.TransferV1 import HandshakeDataV1, HandshakePkgV1\n",
    "from lib.transfer.TransConfigBase import *\n",
    "hs_data = HandshakeDataV1(\"test.jpg\", 100, \".jpg\", \"udaked\", \"single_color\", \"1.0\", ConfirmMethod.NO_CFM)\n",
    "hs_pkg = HandshakePkgV1(True, StatusCode.OK, \"OK\", \"uuid_test\", hs_data)\n",
    "\n",
    "print(hs_pkg.gen_hspkg_json())"
   ]
  }
 ],
 "metadata": {
  "interpreter": {
   "hash": "f42f00a8df384ceb7c50c75452b1ac86ce79e5f2e0d81fb26e165ce164a13a5d"
  },
  "kernelspec": {
   "display_name": "Python 3.10.2 ('venv': venv)",
   "language": "python",
   "name": "python3"
  },
  "language_info": {
   "codemirror_mode": {
    "name": "ipython",
    "version": 3
   },
   "file_extension": ".py",
   "mimetype": "text/x-python",
   "name": "python",
   "nbconvert_exporter": "python",
   "pygments_lexer": "ipython3",
   "version": "3.10.2"
  },
  "orig_nbformat": 4
 },
 "nbformat": 4,
 "nbformat_minor": 2
}
