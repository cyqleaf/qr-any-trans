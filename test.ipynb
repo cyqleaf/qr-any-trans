{
 "cells": [
  {
   "cell_type": "code",
   "execution_count": 8,
   "metadata": {},
   "outputs": [
    {
     "name": "stdout",
     "output_type": "stream",
     "text": [
      "f8cd54d086f9e251dfb068c4b2cbdfd9\n"
     ]
    }
   ],
   "source": [
    "import hashlib\n",
    "print(hashlib.md5(\"dddddddddddddddddddddddddddddddddd\".encode(\"UTF-8\")).hexdigest())"
   ]
  },
  {
   "cell_type": "code",
   "execution_count": 11,
   "metadata": {},
   "outputs": [
    {
     "name": "stdout",
     "output_type": "stream",
     "text": [
      "15\n"
     ]
    }
   ],
   "source": [
    "from lib.transfer.TransferV1 import HandshakeDataV1, HandshakePkgV1\n",
    "from lib.transfer.TransConfigBase import *\n",
    "import json\n",
    "import qrcode\n",
    "hs_data = HandshakeDataV1(\"test.jpg\", 100, \".jpg\", \"udaked\", \"single_color\", \"1.0\", ConfirmMethod.NO_CFM)\n",
    "hs_pkg = HandshakePkgV1(True, StatusCode.OK, \"OK\", \"uuid_test\", hs_data)\n",
    "\n",
    "hs_pkg_json_str = json.dumps(hs_pkg.__dict__)\n",
    "\n",
    "qr = qrcode.QRCode(version=None, error_correction=qrcode.ERROR_CORRECT_M)\n",
    "qr.add_data(hs_pkg_json_str)\n",
    "qr.best_fit()\n",
    "print(qr.version)\n",
    "\n",
    "im = qr.make_image()\n",
    "im.show()\n",
    "\n"
   ]
  }
 ],
 "metadata": {
  "interpreter": {
   "hash": "f42f00a8df384ceb7c50c75452b1ac86ce79e5f2e0d81fb26e165ce164a13a5d"
  },
  "kernelspec": {
   "display_name": "Python 3.10.2 ('venv': venv)",
   "language": "python",
   "name": "python3"
  },
  "language_info": {
   "codemirror_mode": {
    "name": "ipython",
    "version": 3
   },
   "file_extension": ".py",
   "mimetype": "text/x-python",
   "name": "python",
   "nbconvert_exporter": "python",
   "pygments_lexer": "ipython3",
   "version": "3.10.2"
  },
  "orig_nbformat": 4
 },
 "nbformat": 4,
 "nbformat_minor": 2
}
