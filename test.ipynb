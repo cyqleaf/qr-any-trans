{
 "cells": [
  {
   "cell_type": "code",
   "execution_count": 8,
   "metadata": {},
   "outputs": [
    {
     "name": "stdout",
     "output_type": "stream",
     "text": [
      "f8cd54d086f9e251dfb068c4b2cbdfd9\n"
     ]
    }
   ],
   "source": [
    "import hashlib\n",
    "print(hashlib.md5(\"dddddddddddddddddddddddddddddddddd\".encode(\"UTF-8\")).hexdigest())"
   ]
  },
  {
   "cell_type": "code",
   "execution_count": 11,
   "metadata": {},
   "outputs": [
    {
     "name": "stdout",
     "output_type": "stream",
     "text": [
      "15\n"
     ]
    }
   ],
   "source": [
    "from lib.transfer.TransferV1 import HandshakeDataV1, HandshakePkgV1\n",
    "from lib.transfer.TransConfigBase import *\n",
    "import json\n",
    "import qrcode\n",
    "hs_data = HandshakeDataV1(\"test.jpg\", 100, \".jpg\", \"udaked\", \"single_color\", \"1.0\", ConfirmMethod.NO_CFM)\n",
    "hs_pkg = HandshakePkgV1(True, StatusCode.OK, \"OK\", \"uuid_test\", hs_data)\n",
    "\n",
    "hs_pkg_json_str = json.dumps(hs_pkg.__dict__)\n",
    "\n",
    "qr = qrcode.QRCode(version=None, error_correction=qrcode.ERROR_CORRECT_M)\n",
    "qr.add_data(hs_pkg_json_str)\n",
    "qr.best_fit()\n",
    "print(qr.version)\n",
    "\n",
    "im = qr.make_image()\n",
    "im.show()\n",
    "\n"
   ]
  },
  {
   "cell_type": "code",
   "execution_count": 16,
   "metadata": {},
   "outputs": [
    {
     "data": {
      "text/plain": [
       "'jpg'"
      ]
     },
     "execution_count": 16,
     "metadata": {},
     "output_type": "execute_result"
    }
   ],
   "source": [
    "import math\n",
    "\"go.v1.v2.jpg\"[::-1].split(\".\")[0][::-1]"
   ]
  },
  {
   "cell_type": "code",
   "execution_count": 40,
   "metadata": {},
   "outputs": [
    {
     "name": "stdout",
     "output_type": "stream",
     "text": [
      "97\n",
      "b'# qr-any-t'\n",
      "0\n",
      "IyBxci1hbnktdA==\n"
     ]
    }
   ],
   "source": [
    "from io import BytesIO\n",
    "import hashlib\n",
    "import base64\n",
    "with open(\"README.md\",\"rb\") as mdfile:\n",
    "    bio = BytesIO()\n",
    "    bio.write(mdfile.read())\n",
    "    bio.seek(0,2)\n",
    "    print(bio.tell())\n",
    "    bio.seek(0,0)\n",
    "    a = bio.read(10)\n",
    "    bio.seek(0,0)\n",
    "    print(a)\n",
    "    print(bio.tell())\n",
    "\n",
    "    print(base64.b64encode(a).decode(\"ascii\"))\n",
    "\n"
   ]
  },
  {
   "cell_type": "code",
   "execution_count": 78,
   "metadata": {},
   "outputs": [
    {
     "name": "stdout",
     "output_type": "stream",
     "text": [
      "250000\n",
      "250000\n",
      "v:39 v:39 v:39 v:39 v:39 v:39 v:39 v:39 v:39 v:39 v:39 v:39 v:39 v:39 v:39 v:39 v:39 v:39 v:39 v:39 v:39 v:39 v:39 v:39 v:39 v:39 v:39 v:39 v:39 v:39 v:39 v:39 v:39 v:39 v:39 v:39 v:39 v:39 v:39 v:39 \n",
      "生成数据耗时10.58毫秒\n",
      "durition:0~40\n",
      "耗时112.71毫秒, 平均2.82毫秒\n"
     ]
    },
    {
     "name": "stderr",
     "output_type": "stream",
     "text": [
      "Traceback (most recent call last):\n",
      "  File \"<string>\", line 1, in <module>\n",
      "  File \"/usr/local/Cellar/python@3.10/3.10.2/Frameworks/Python.framework/Versions/3.10/lib/python3.10/multiprocessing/spawn.py\", line 116, in spawn_main\n",
      "    exitcode = _main(fd, parent_sentinel)\n",
      "  File \"/usr/local/Cellar/python@3.10/3.10.2/Frameworks/Python.framework/Versions/3.10/lib/python3.10/multiprocessing/spawn.py\", line 126, in _main\n",
      "    self = reduction.pickle.load(from_parent)\n",
      "AttributeError: Can't get attribute 'mk_qr_imgs_t' on <module '__main__' (built-in)>\n"
     ]
    }
   ],
   "source": [
    "import qrcode, base64, time\n",
    "import random\n",
    "from threading import Thread\n",
    "from multiprocessing import Process\n",
    "\n",
    "class MyThread(Thread):\n",
    "    def __init__(self, target = None):\n",
    "        Thread.__init__(self, target=target)\n",
    "        self.finish = False\n",
    "    \n",
    "    def run(self):\n",
    "        Thread.run(self)\n",
    "        self.finish = True\n",
    "\n",
    "def mk_qr_imgs_t(qrs, res_list):\n",
    "    print(f\"需要处理{len(qrs)}个图片\")\n",
    "    for qr in qrs:\n",
    "        res_list.append(qr.make_image())\n",
    "\n",
    "\n",
    "\n",
    "test_str = \"doyouhear the people sing\" * 10000\n",
    "print(len(test_str))\n",
    "\n",
    "bs = test_str.encode(\"utf-8\")\n",
    "print(len(bs))\n",
    "\n",
    "qrs = []\n",
    "ims = []\n",
    "\n",
    "st = time.time()\n",
    "for i in range(40):\n",
    "    qr = qrcode.QRCode(version=39, error_correction= qrcode.ERROR_CORRECT_M,box_size=5,border=2)\n",
    "    random_pos = random.randint(0, len(bs) - 1652)\n",
    "    encoded = base64.b64encode(bs[random_pos:random_pos + 1650]).decode(\"utf-8\")\n",
    "    qr.add_data(encoded)\n",
    "    print(f\"v:{qr.version} \", end=\"\")\n",
    "    qrs.append(qr)\n",
    "print()\n",
    "end = time.time()\n",
    "cost_ms = (end-st) * 1000\n",
    "print(f\"生成数据耗时{cost_ms:.2f}毫秒\")\n",
    "\n",
    "T_COUNT = 1\n",
    "\n",
    "\n",
    "st = time.time()\n",
    "rev_lists = [[]for i in range(T_COUNT)]\n",
    "threads = []\n",
    "batch_size = len(qrs) // T_COUNT\n",
    "for i in range(T_COUNT):\n",
    "    batch_size_final = batch_size\n",
    "    if i == T_COUNT - 1:\n",
    "        batch_size_final = len(qrs)\n",
    "    st_pos = i * batch_size\n",
    "    end_pos = i * batch_size + batch_size_final\n",
    "    print(f\"durition:{st_pos}~{end_pos}\")\n",
    "    threads.append(Process(target = mk_qr_imgs_t, args=(qrs[st_pos: end_pos], rev_lists[i])))\n",
    "for proc in threads:\n",
    "    proc.start()\n",
    "    \n",
    "for proc in threads:\n",
    "    proc.join()\n",
    "    \n",
    "end = time.time()\n",
    "cost_ms = (end-st) * 1000\n",
    "print(f\"耗时{cost_ms:.2f}毫秒, 平均{cost_ms/40:.2f}毫秒\")\n"
   ]
  },
  {
   "cell_type": "markdown",
   "metadata": {},
   "source": [
    "# QR生成的多线程方案 难以提速，依赖于电脑的实际性能\n",
    "1. 预先拆分数据\n",
    "2. 多线程生成QR图片\n",
    "3. 读取时只读取图片缓存\n",
    "# UI优化\n",
    "1. 单独线程跑功能\n",
    "2. 暂停等按钮的联动功能\n",
    "3. 导出视频\n"
   ]
  },
  {
   "cell_type": "code",
   "execution_count": 66,
   "metadata": {},
   "outputs": [
    {
     "name": "stdout",
     "output_type": "stream",
     "text": [
      "['gogo']\n"
     ]
    }
   ],
   "source": [
    "def fun(inlist):\n",
    "    inlist.append(\"gogo\")\n",
    "\n",
    "li = []\n",
    "fun(li)\n",
    "print(li)"
   ]
  }
 ],
 "metadata": {
  "interpreter": {
   "hash": "f42f00a8df384ceb7c50c75452b1ac86ce79e5f2e0d81fb26e165ce164a13a5d"
  },
  "kernelspec": {
   "display_name": "Python 3.10.2 ('venv': venv)",
   "language": "python",
   "name": "python3"
  },
  "language_info": {
   "codemirror_mode": {
    "name": "ipython",
    "version": 3
   },
   "file_extension": ".py",
   "mimetype": "text/x-python",
   "name": "python",
   "nbconvert_exporter": "python",
   "pygments_lexer": "ipython3",
   "version": "3.10.2"
  },
  "orig_nbformat": 4
 },
 "nbformat": 4,
 "nbformat_minor": 2
}
