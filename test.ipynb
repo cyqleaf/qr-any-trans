{
 "cells": [
  {
   "cell_type": "code",
   "execution_count": 8,
   "metadata": {},
   "outputs": [
    {
     "name": "stdout",
     "output_type": "stream",
     "text": [
      "f8cd54d086f9e251dfb068c4b2cbdfd9\n"
     ]
    }
   ],
   "source": [
    "import hashlib\n",
    "print(hashlib.md5(\"dddddddddddddddddddddddddddddddddd\".encode(\"UTF-8\")).hexdigest())"
   ]
  },
  {
   "cell_type": "code",
   "execution_count": 11,
   "metadata": {},
   "outputs": [
    {
     "name": "stdout",
     "output_type": "stream",
     "text": [
      "15\n"
     ]
    }
   ],
   "source": [
    "from lib.transfer.TransferV1 import HandshakeDataV1, HandshakePkgV1\n",
    "from lib.transfer.TransConfigBase import *\n",
    "import json\n",
    "import qrcode\n",
    "hs_data = HandshakeDataV1(\"test.jpg\", 100, \".jpg\", \"udaked\", \"single_color\", \"1.0\", ConfirmMethod.NO_CFM)\n",
    "hs_pkg = HandshakePkgV1(True, StatusCode.OK, \"OK\", \"uuid_test\", hs_data)\n",
    "\n",
    "hs_pkg_json_str = json.dumps(hs_pkg.__dict__)\n",
    "\n",
    "qr = qrcode.QRCode(version=None, error_correction=qrcode.ERROR_CORRECT_M)\n",
    "qr.add_data(hs_pkg_json_str)\n",
    "qr.best_fit()\n",
    "print(qr.version)\n",
    "\n",
    "im = qr.make_image()\n",
    "im.show()\n",
    "\n"
   ]
  },
  {
   "cell_type": "code",
   "execution_count": 16,
   "metadata": {},
   "outputs": [
    {
     "data": {
      "text/plain": [
       "'jpg'"
      ]
     },
     "execution_count": 16,
     "metadata": {},
     "output_type": "execute_result"
    }
   ],
   "source": [
    "import math\n",
    "\"go.v1.v2.jpg\"[::-1].split(\".\")[0][::-1]"
   ]
  },
  {
   "cell_type": "code",
   "execution_count": 40,
   "metadata": {},
   "outputs": [
    {
     "name": "stdout",
     "output_type": "stream",
     "text": [
      "97\n",
      "b'# qr-any-t'\n",
      "0\n",
      "IyBxci1hbnktdA==\n"
     ]
    }
   ],
   "source": [
    "from io import BytesIO\n",
    "import hashlib\n",
    "import base64\n",
    "with open(\"README.md\",\"rb\") as mdfile:\n",
    "    bio = BytesIO()\n",
    "    bio.write(mdfile.read())\n",
    "    bio.seek(0,2)\n",
    "    print(bio.tell())\n",
    "    bio.seek(0,0)\n",
    "    a = bio.read(10)\n",
    "    bio.seek(0,0)\n",
    "    print(a)\n",
    "    print(bio.tell())\n",
    "\n",
    "    print(base64.b64encode(a).decode(\"ascii\"))\n",
    "\n"
   ]
  },
  {
   "cell_type": "code",
   "execution_count": 78,
   "metadata": {},
   "outputs": [
    {
     "name": "stdout",
     "output_type": "stream",
     "text": [
      "250000\n",
      "250000\n",
      "v:39 v:39 v:39 v:39 v:39 v:39 v:39 v:39 v:39 v:39 v:39 v:39 v:39 v:39 v:39 v:39 v:39 v:39 v:39 v:39 v:39 v:39 v:39 v:39 v:39 v:39 v:39 v:39 v:39 v:39 v:39 v:39 v:39 v:39 v:39 v:39 v:39 v:39 v:39 v:39 \n",
      "生成数据耗时10.58毫秒\n",
      "durition:0~40\n",
      "耗时112.71毫秒, 平均2.82毫秒\n"
     ]
    },
    {
     "name": "stderr",
     "output_type": "stream",
     "text": [
      "Traceback (most recent call last):\n",
      "  File \"<string>\", line 1, in <module>\n",
      "  File \"/usr/local/Cellar/python@3.10/3.10.2/Frameworks/Python.framework/Versions/3.10/lib/python3.10/multiprocessing/spawn.py\", line 116, in spawn_main\n",
      "    exitcode = _main(fd, parent_sentinel)\n",
      "  File \"/usr/local/Cellar/python@3.10/3.10.2/Frameworks/Python.framework/Versions/3.10/lib/python3.10/multiprocessing/spawn.py\", line 126, in _main\n",
      "    self = reduction.pickle.load(from_parent)\n",
      "AttributeError: Can't get attribute 'mk_qr_imgs_t' on <module '__main__' (built-in)>\n"
     ]
    }
   ],
   "source": [
    "import qrcode, base64, time\n",
    "import random\n",
    "from threading import Thread\n",
    "from multiprocessing import Process\n",
    "\n",
    "class MyThread(Thread):\n",
    "    def __init__(self, target = None):\n",
    "        Thread.__init__(self, target=target)\n",
    "        self.finish = False\n",
    "    \n",
    "    def run(self):\n",
    "        Thread.run(self)\n",
    "        self.finish = True\n",
    "\n",
    "def mk_qr_imgs_t(qrs, res_list):\n",
    "    print(f\"需要处理{len(qrs)}个图片\")\n",
    "    for qr in qrs:\n",
    "        res_list.append(qr.make_image())\n",
    "\n",
    "\n",
    "\n",
    "test_str = \"doyouhear the people sing\" * 10000\n",
    "print(len(test_str))\n",
    "\n",
    "bs = test_str.encode(\"utf-8\")\n",
    "print(len(bs))\n",
    "\n",
    "qrs = []\n",
    "ims = []\n",
    "\n",
    "st = time.time()\n",
    "for i in range(40):\n",
    "    qr = qrcode.QRCode(version=39, error_correction= qrcode.ERROR_CORRECT_M,box_size=5,border=2)\n",
    "    random_pos = random.randint(0, len(bs) - 1652)\n",
    "    encoded = base64.b64encode(bs[random_pos:random_pos + 1650]).decode(\"utf-8\")\n",
    "    qr.add_data(encoded)\n",
    "    print(f\"v:{qr.version} \", end=\"\")\n",
    "    qrs.append(qr)\n",
    "print()\n",
    "end = time.time()\n",
    "cost_ms = (end-st) * 1000\n",
    "print(f\"生成数据耗时{cost_ms:.2f}毫秒\")\n",
    "\n",
    "T_COUNT = 1\n",
    "\n",
    "\n",
    "st = time.time()\n",
    "rev_lists = [[]for i in range(T_COUNT)]\n",
    "threads = []\n",
    "batch_size = len(qrs) // T_COUNT\n",
    "for i in range(T_COUNT):\n",
    "    batch_size_final = batch_size\n",
    "    if i == T_COUNT - 1:\n",
    "        batch_size_final = len(qrs)\n",
    "    st_pos = i * batch_size\n",
    "    end_pos = i * batch_size + batch_size_final\n",
    "    print(f\"durition:{st_pos}~{end_pos}\")\n",
    "    threads.append(Process(target = mk_qr_imgs_t, args=(qrs[st_pos: end_pos], rev_lists[i])))\n",
    "for proc in threads:\n",
    "    proc.start()\n",
    "    \n",
    "for proc in threads:\n",
    "    proc.join()\n",
    "    \n",
    "end = time.time()\n",
    "cost_ms = (end-st) * 1000\n",
    "print(f\"耗时{cost_ms:.2f}毫秒, 平均{cost_ms/40:.2f}毫秒\")\n"
   ]
  },
  {
   "cell_type": "markdown",
   "metadata": {},
   "source": [
    "# QR生成的多线程方案 难以提速，依赖于电脑的实际性能\n",
    "1. 预先拆分数据 - 暂不需要\n",
    "2. 多线程生成QR图片 - 无法加速\n",
    "3. 读取时只读取图片缓存 - 暂不需要\n",
    "# UI优化\n",
    "1. 单独线程跑功能\n",
    "2. 暂停等按钮的联动功能\n",
    "3. 导出视频\n",
    "4. 上下跳帧等按钮联动功能\n",
    "5. 信息显示更全面：文件大小、当前数据速度、当前帧速、平均数据速度\n",
    "# 602谢涛讨论结果\n",
    "1. 用bson或者pb或者json编码后加分隔符存储二进制流：固定长度：index,total,md5,二进制流\n",
    "2. RGB三色叠加 6张同时出 理论上864KB\n",
    "3. 研究单独的二维码绘制功能，可以先绘制成numpy数组，再做无优化放大\n",
    "# 执行顺序\n",
    "1. 将绘制图片的间隔计算进播放时间间隔中，绘制时间未超过播放时间，则补齐，反之进入下一帧\n",
    "2. 谢涛3\n",
    "3. UI4\n",
    "4. 谢涛1\n",
    "5. UI5\n",
    "6. 谢涛2\n",
    "7. UI3\n",
    "8. 谢涛4"
   ]
  },
  {
   "cell_type": "code",
   "execution_count": 66,
   "metadata": {},
   "outputs": [
    {
     "name": "stdout",
     "output_type": "stream",
     "text": [
      "['gogo']\n"
     ]
    }
   ],
   "source": [
    "def fun(inlist):\n",
    "    inlist.append(\"gogo\")\n",
    "\n",
    "li = []\n",
    "fun(li)\n",
    "print(li)"
   ]
  },
  {
   "cell_type": "code",
   "execution_count": null,
   "metadata": {},
   "outputs": [],
   "source": [
    "from qrcode import QRCode\n",
    "from qrcode import util\n",
    "import time\n",
    "\n",
    "data = \"doseslae\" * 20000\n",
    "data = data.encode(\"utf-8\")\n",
    "# print(data)\n",
    "qrs = []\n",
    "\n",
    "ori_map_data = QRCode.map_data\n",
    "def new_map_data(self, data, mask_pattern):\n",
    "    st = time.time()\n",
    "    ori_map_data(self, data, mask_pattern)\n",
    "    end = time.time()\n",
    "    cost_ms = (end-st) * 1000\n",
    "    print(f\"map_cost:{cost_ms:.2f}毫秒\")\n",
    "\n",
    "QRCode.map_data=new_map_data\n",
    "\n",
    "for i in range(200):\n",
    "    qr = QRCode(version = 39,mask_pattern=5)\n",
    "    qr.add_data(util.QRData(data[i:1920+i]))\n",
    "    qrs.append(qr)\n",
    "# qr.best_fit()\n",
    "# print(qr.version)\n",
    "st = time.time()\n",
    "for qr in qrs:\n",
    "    qr.make_image()\n",
    "end = time.time()\n",
    "print(f\"总时间:{end - st}, 最大帧数:{200 / (end-st):.2f}, 每帧时间:{(end-st)*1000/200:.2f}毫秒\")\n",
    "\n",
    "# print(qr.modules)"
   ]
  },
  {
   "cell_type": "code",
   "execution_count": 10,
   "metadata": {},
   "outputs": [],
   "source": [
    "# 计算每个数据量的最佳大小，字节流从0B到2560B\n",
    "from qrcode import QRCode\n",
    "from qrcode.util import QRData, MODE_8BIT_BYTE\n",
    "from random import randint\n",
    "\n",
    "data_tpl = \"abcdefghijklmnopqrstuvwxyz1234567890-=+_/][\"\n",
    "full_data = []\n",
    "for i in range(2561):\n",
    "    full_data.append(data_tpl[randint(0,len(data_tpl) - 1)])\n",
    "full_data = ''.join(full_data).encode(\"UTF-8\")\n",
    "\n",
    "res = []\n",
    "v_max_data_dict = dict()\n",
    "\n",
    "for i in range(2300):\n",
    "    qr = QRCode()\n",
    "    qr.add_data(QRData(data=full_data[0:i], mode=MODE_8BIT_BYTE))\n",
    "    qr.best_fit()\n",
    "    res.append(qr.version)\n",
    "    if i > 0 and res[-1] > res[-2]:\n",
    "        v_max_data_dict[res[-2]] = i - 1\n",
    "\n",
    "if 40 not in v_max_data_dict.keys():\n",
    "    v_max_data_dict[40] = 2300\n",
    "\n",
    "res = [str(a) for a in res]\n",
    "\n",
    "with open(\"constants.py\",\"w\") as c_file:\n",
    "    c_file.write(f\"byte_version_list = [{', '.join(res)}]\\n\")\n",
    "    c_file.write(\"v_max_data_dict = {\")\n",
    "    for i in range(1,41):\n",
    "        c_file.write(f\"\\t{i}: {v_max_data_dict[i]},\")\n",
    "\n",
    "    c_file.write(\"}\")\n",
    "    "
   ]
  },
  {
   "cell_type": "code",
   "execution_count": 4,
   "metadata": {},
   "outputs": [
    {
     "name": "stdout",
     "output_type": "stream",
     "text": [
      "V-1 容量过小\n",
      "V-2 下，单码6 B, 合0.01KB,帧率364.64 FPS\n",
      "V-2 下，平均码速为9.26KB/s, 净数据速为2.14KB/s\n",
      "\n",
      "V-3 下，单码22 B, 合0.02KB,帧率165.10 FPS\n",
      "V-3 下，平均码速为6.77KB/s, 净数据速为3.55KB/s\n",
      "\n",
      "V-4 下，单码42 B, 合0.04KB,帧率253.08 FPS\n",
      "V-4 下，平均码速为15.32KB/s, 净数据速为10.38KB/s\n",
      "\n",
      "V-5 下，单码64 B, 合0.06KB,帧率156.87 FPS\n",
      "V-5 下，平均码速为12.87KB/s, 净数据速为9.80KB/s\n",
      "\n",
      "V-6 下，单码86 B, 合0.08KB,帧率97.01 FPS\n",
      "V-6 下，平均码速为10.04KB/s, 净数据速为8.15KB/s\n",
      "\n",
      "V-7 下，单码102 B, 合0.10KB,帧率113.45 FPS\n",
      "V-7 下，平均码速为13.52KB/s, 净数据速为11.30KB/s\n",
      "\n",
      "V-8 下，单码132 B, 合0.13KB,帧率80.50 FPS\n",
      "V-8 下，平均码速为11.95KB/s, 净数据速为10.38KB/s\n",
      "\n",
      "V-9 下，单码160 B, 合0.16KB,帧率109.17 FPS\n",
      "V-9 下，平均码速为19.19KB/s, 净数据速为17.06KB/s\n",
      "\n",
      "V-10 下，单码193 B, 合0.19KB,帧率93.63 FPS\n",
      "V-10 下，平均码速为19.48KB/s, 净数据速为17.65KB/s\n",
      "\n",
      "V-11 下，单码231 B, 合0.23KB,帧率78.69 FPS\n",
      "V-11 下，平均码速为19.29KB/s, 净数据速为17.75KB/s\n",
      "\n",
      "V-12 下，单码267 B, 合0.26KB,帧率68.33 FPS\n",
      "V-12 下，平均码速为19.15KB/s, 净数据速为17.82KB/s\n",
      "\n",
      "V-13 下，单码311 B, 合0.30KB,帧率59.72 FPS\n",
      "V-13 下，平均码速为19.31KB/s, 净数据速为18.14KB/s\n",
      "\n",
      "V-14 下，单码342 B, 合0.33KB,帧率49.05 FPS\n",
      "V-14 下，平均码速为17.34KB/s, 净数据速为16.38KB/s\n",
      "\n",
      "V-15 下，单码392 B, 合0.38KB,帧率42.45 FPS\n",
      "V-15 下，平均码速为17.08KB/s, 净数据速为16.25KB/s\n",
      "\n",
      "V-16 下，单码430 B, 合0.42KB,帧率45.81 FPS\n",
      "V-16 下，平均码速为20.13KB/s, 净数据速为19.24KB/s\n",
      "\n",
      "V-17 下，单码484 B, 合0.47KB,帧率37.52 FPS\n",
      "V-17 下，平均码速为18.47KB/s, 净数据速为17.73KB/s\n",
      "\n",
      "V-18 下，单码540 B, 合0.53KB,帧率33.30 FPS\n",
      "V-18 下，平均码速为18.21KB/s, 净数据速为17.56KB/s\n",
      "\n",
      "V-19 下，单码604 B, 合0.59KB,帧率34.26 FPS\n",
      "V-19 下，平均码速为20.88KB/s, 净数据速为20.21KB/s\n",
      "\n",
      "V-20 下，单码646 B, 合0.63KB,帧率31.45 FPS\n",
      "V-20 下，平均码速为20.46KB/s, 净数据速为19.84KB/s\n",
      "\n",
      "V-21 下，单码691 B, 合0.67KB,帧率29.37 FPS\n",
      "V-21 下，平均码速为20.40KB/s, 净数据速为19.82KB/s\n",
      "\n",
      "V-22 下，单码759 B, 合0.74KB,帧率26.94 FPS\n",
      "V-22 下，平均码速为20.49KB/s, 净数据速为19.97KB/s\n",
      "\n",
      "V-23 下，单码837 B, 合0.82KB,帧率24.44 FPS\n",
      "V-23 下，平均码速为20.45KB/s, 净数据速为19.97KB/s\n",
      "\n",
      "V-24 下，单码891 B, 合0.87KB,帧率22.89 FPS\n",
      "V-24 下，平均码速为20.37KB/s, 净数据速为19.92KB/s\n",
      "\n",
      "V-25 下，单码977 B, 合0.95KB,帧率21.01 FPS\n",
      "V-25 下，平均码速为20.46KB/s, 净数据速为20.05KB/s\n",
      "\n",
      "V-26 下，单码1039 B, 合1.01KB,帧率20.04 FPS\n",
      "V-26 下，平均码速为20.73KB/s, 净数据速为20.34KB/s\n",
      "\n",
      "V-27 下，单码1105 B, 合1.08KB,帧率18.18 FPS\n",
      "V-27 下，平均码速为19.97KB/s, 净数据速为19.61KB/s\n",
      "\n",
      "V-28 下，单码1170 B, 合1.14KB,帧率17.29 FPS\n",
      "V-28 下，平均码速为20.10KB/s, 净数据速为19.76KB/s\n",
      "\n",
      "V-29 下，单码1244 B, 合1.21KB,帧率16.38 FPS\n",
      "V-29 下，平均码速为20.22KB/s, 净数据速为19.90KB/s\n",
      "\n",
      "V-30 下，单码1350 B, 合1.32KB,帧率15.58 FPS\n",
      "V-30 下，平均码速为20.85KB/s, 净数据速为20.54KB/s\n",
      "\n",
      "V-31 下，单码1432 B, 合1.40KB,帧率14.45 FPS\n",
      "V-31 下，平均码速为20.49KB/s, 净数据速为20.20KB/s\n",
      "\n",
      "V-32 下，单码1518 B, 合1.48KB,帧率13.86 FPS\n",
      "V-32 下，平均码速为20.82KB/s, 净数据速为20.55KB/s\n",
      "\n",
      "V-33 下，单码1608 B, 合1.57KB,帧率13.21 FPS\n",
      "V-33 下，平均码速为21.01KB/s, 净数据速为20.75KB/s\n",
      "\n",
      "V-34 下，单码1702 B, 合1.66KB,帧率12.63 FPS\n",
      "V-34 下，平均码速为21.23KB/s, 净数据速为20.99KB/s\n",
      "\n",
      "V-35 下，单码1789 B, 合1.75KB,帧率11.72 FPS\n",
      "V-35 下，平均码速为20.70KB/s, 净数据速为20.47KB/s\n",
      "\n",
      "V-36 下，单码1891 B, 合1.85KB,帧率11.20 FPS\n",
      "V-36 下，平均码速为20.91KB/s, 净数据速为20.69KB/s\n",
      "\n",
      "V-37 下，单码1969 B, 合1.92KB,帧率10.70 FPS\n",
      "V-37 下，平均码速为20.78KB/s, 净数据速为20.57KB/s\n",
      "\n",
      "V-38 下，单码2079 B, 合2.03KB,帧率9.91 FPS\n",
      "V-38 下，平均码速为20.32KB/s, 净数据速为20.13KB/s\n",
      "\n",
      "V-39 下，单码2193 B, 合2.14KB,帧率9.25 FPS\n",
      "V-39 下，平均码速为19.99KB/s, 净数据速为19.81KB/s\n",
      "\n",
      "V-40 下，单码2280 B, 合2.23KB,帧率9.30 FPS\n",
      "V-40 下，平均码速为20.89KB/s, 净数据速为20.71KB/s\n",
      "\n"
     ]
    }
   ],
   "source": [
    "# 测试数据传输速度最快的version选择\n",
    "\n",
    "from constants import v_max_data_dict\n",
    "from transfer.StringUtil import gen_random_bytes\n",
    "from random import randint\n",
    "from time import time \n",
    "from qrcode.util import MODE_8BIT_BYTE\n",
    "from qrcode import QRCode\n",
    "from qrcode.util import QRData\n",
    "\n",
    "OFFSET_OPTION = 2000\n",
    "bytes_source = gen_random_bytes(OFFSET_OPTION + int(v_max_data_dict[40]) + 200)\n",
    "META_SIZE = 20\n",
    "REPEAT_TIME = 50\n",
    "\n",
    "\n",
    "for i in range(1,41):\n",
    "    if v_max_data_dict[i] < META_SIZE:\n",
    "        print(f\"V-{i} 容量过小\")\n",
    "        continue\n",
    "\n",
    "    total_data_size = v_max_data_dict[i]\n",
    "    pure_data_size = v_max_data_dict[i] - META_SIZE\n",
    "\n",
    "    total_cost_time = 0\n",
    "    for j in range(REPEAT_TIME):\n",
    "        start_pos = randint(0, OFFSET_OPTION)\n",
    "        st = time()\n",
    "        qr = QRCode(version = i, mask_pattern=5)\n",
    "        qr.add_data(QRData(bytes_source[start_pos: start_pos + total_data_size], mode=MODE_8BIT_BYTE))\n",
    "        qr.make_image()\n",
    "        end = time()\n",
    "        total_cost_time += end - st\n",
    "    print(f\"V-{i} 下，单码{pure_data_size} B, 合{pure_data_size / 1024:.2f}KB,帧率{REPEAT_TIME/total_cost_time:.2f} FPS\")\n",
    "    print(f\"V-{i} 下，平均码速为{REPEAT_TIME*total_data_size/1024/total_cost_time:.2f}KB/s, 净数据速为{REPEAT_TIME*pure_data_size/1024/total_cost_time:.2f}KB/s\\n\")\n",
    "    \n"
   ]
  },
  {
   "cell_type": "code",
   "execution_count": 9,
   "metadata": {},
   "outputs": [
    {
     "name": "stdout",
     "output_type": "stream",
     "text": [
      "b'doyouhestdoyouhest'\n"
     ]
    }
   ],
   "source": [
    "b = bytes(\"doyouhest\", encoding=\"utf-8\")\n",
    "c = \"doyouhest\".encode(\"utf-8\")\n",
    "print(c+b)"
   ]
  },
  {
   "cell_type": "code",
   "execution_count": 30,
   "metadata": {},
   "outputs": [
    {
     "data": {
      "text/plain": [
       "47"
      ]
     },
     "execution_count": 30,
     "metadata": {},
     "output_type": "execute_result"
    }
   ],
   "source": [
    "meta = (258 | 1 << 31 | 47 << 25).to_bytes(4, byteorder=\"big\")\n",
    "meta_int = int.from_bytes(meta, byteorder=\"big\")\n",
    "(meta_int & 63<<25)>>25"
   ]
  },
  {
   "cell_type": "code",
   "execution_count": 3,
   "metadata": {},
   "outputs": [],
   "source": [
    "import cv2, time\n",
    "capture = cv2.VideoCapture(0)\n",
    "\n",
    "time.sleep(1)\n",
    "_,im = capture.read()\n",
    "cv2.imshow(\"unname\", im)\n",
    "if cv2.waitKey(1) == ord(\"q\"):\n",
    "    pass\n"
   ]
  },
  {
   "cell_type": "code",
   "execution_count": 2,
   "metadata": {},
   "outputs": [],
   "source": [
    "capture.release()"
   ]
  },
  {
   "cell_type": "code",
   "execution_count": 29,
   "metadata": {},
   "outputs": [
    {
     "name": "stdout",
     "output_type": "stream",
     "text": [
      "30\n",
      "33\n",
      "36\n"
     ]
    }
   ],
   "source": [
    "import qrcode, random, numpy, cv2\n",
    "from qrcode import util\n",
    "\n",
    "strs = [\"Do you hear the people sing\" * 50, \"Singing a song of angry men\" * 60, \"It is a life about to start when tomorrow comes\" * 40]\n",
    "\n",
    "ims = []\n",
    "im_arlist = []\n",
    "for i in range(3):\n",
    "    data = strs[i]\n",
    "    qr = qrcode.QRCode(border=10)\n",
    "    qr.add_data(util.QRData(data, mode=util.MODE_8BIT_BYTE))\n",
    "    qr.best_fit()\n",
    "    print(qr.version)\n",
    "    im = qr.make_image()\n",
    "    im = im.resize((800,800))\n",
    "    ims.append(im)\n",
    "    with open(f\"./tqr_{i}.jpg\",\"wb\") as img_file:\n",
    "        im.save(img_file, format=\"jpeg\", quality=100)\n",
    "\n",
    "    # imarray = numpy.asarray(im)\n",
    "    # print(imarray)\n",
    "\n",
    "    im_array = numpy.asarray(im).astype(numpy.uint8)*255\n",
    "    im_arlist.append(im_array)\n",
    "    # cv2.split()\n",
    "\n",
    "merge_im = cv2.cvtColor(cv2.merge(im_arlist), cv2.COLOR_RGB2BGR)\n",
    "out_im = Image.fromarray(cv2.cvtColor(merge_im, cv2.COLOR_BGR2RGB))\n",
    "with open(\"./origin_add_rgb_bgr_rgb.jpg\",\"wb\") as out_file:\n",
    "    out_im.save(out_file, format=\"jpeg\", quality=100)\n"
   ]
  },
  {
   "cell_type": "code",
   "execution_count": 33,
   "metadata": {},
   "outputs": [
    {
     "data": {
      "text/plain": [
       "'\\n通道拆分初步实验：36以上（下限不清）难以识别，B通道最难识别。考虑是否调整RGB的配比以利于识别\\n'"
      ]
     },
     "execution_count": 33,
     "metadata": {},
     "output_type": "execute_result"
    }
   ],
   "source": [
    "import cv2, numpy\n",
    "from PIL import Image\n",
    "\n",
    "ori_photo = cv2.imread(\"./merged_photo_rgbbgrrgb.jpg\")\n",
    "# ori_photo = cv2.imread(\"./origin_add.jpg\")\n",
    "\n",
    "\n",
    "splits = cv2.split(ori_photo)\n",
    "\n",
    "for i in range(3):\n",
    "    # cv2_im = cv2.merge((splits[i], splits[i],splits[i]))\n",
    "    _, bin_im = cv2.threshold(splits[i],127,255,cv2.THRESH_BINARY)\n",
    "    im = Image.fromarray(bin_im)\n",
    "    with open(f\"./out_{i}.jpg\", \"wb\") as im_file:\n",
    "        im.save(im_file, format=\"jpeg\", quality=100)\n",
    "\n",
    "'''\n",
    "通道拆分初步实验：36以上（下限不清）难以识别，B通道最难识别。考虑是否调整RGB的配比以利于识别\n",
    "'''"
   ]
  },
  {
   "cell_type": "code",
   "execution_count": 4,
   "metadata": {},
   "outputs": [
    {
     "data": {
      "text/plain": [
       "[Decoded(data=b'It is a life about to start when tomorrow comesIt is a life about to start when tomorrow comesIt is a life about to start when tomorrow comesIt is a life about to start when tomorrow comesIt is a life about to start when tomorrow comesIt is a life about to start when tomorrow comesIt is a life about to start when tomorrow comesIt is a life about to start when tomorrow comesIt is a life about to start when tomorrow comesIt is a life about to start when tomorrow comesIt is a life about to start when tomorrow comesIt is a life about to start when tomorrow comesIt is a life about to start when tomorrow comesIt is a life about to start when tomorrow comesIt is a life about to start when tomorrow comesIt is a life about to start when tomorrow comesIt is a life about to start when tomorrow comesIt is a life about to start when tomorrow comesIt is a life about to start when tomorrow comesIt is a life about to start when tomorrow comesIt is a life about to start when tomorrow comesIt is a life about to start when tomorrow comesIt is a life about to start when tomorrow comesIt is a life about to start when tomorrow comesIt is a life about to start when tomorrow comesIt is a life about to start when tomorrow comesIt is a life about to start when tomorrow comesIt is a life about to start when tomorrow comesIt is a life about to start when tomorrow comesIt is a life about to start when tomorrow comesIt is a life about to start when tomorrow comesIt is a life about to start when tomorrow comesIt is a life about to start when tomorrow comesIt is a life about to start when tomorrow comesIt is a life about to start when tomorrow comesIt is a life about to start when tomorrow comesIt is a life about to start when tomorrow comesIt is a life about to start when tomorrow comesIt is a life about to start when tomorrow comesIt is a life about to start when tomorrow comes', type='QRCODE', rect=Rect(left=44, top=44, width=712, height=712), polygon=[Point(x=44, y=44), Point(x=45, y=755), Point(x=756, y=756), Point(x=755, y=45)], orientation=<ZBarOrientation.UP: 0>, quality=1)]"
      ]
     },
     "execution_count": 4,
     "metadata": {},
     "output_type": "execute_result"
    }
   ],
   "source": [
    "import cv2\n",
    "from pyzbar import pyzbar\n",
    "\n",
    "qr_cvim = cv2.imread(\"./tqr_2.jpg\")\n",
    "pyzbar.decode(qr_cvim)\n",
    "\n",
    "\n",
    "\n"
   ]
  },
  {
   "cell_type": "code",
   "execution_count": 3,
   "metadata": {},
   "outputs": [
    {
     "name": "stdout",
     "output_type": "stream",
     "text": [
      "b'\\xedY\\xd6\\xe6h\\xf9\\xbf\\xd9'\n"
     ]
    }
   ],
   "source": [
    "with open(\"/Users/hongxiao/Documents/书法资料/礼器碑临摹手稿/礼器碑原文译文.pdf\",\"rb\") as afile:\n",
    "    file_bytes = afile.read()\n",
    "    print(file_bytes[973+972-8:973+972])\n"
   ]
  },
  {
   "cell_type": "code",
   "execution_count": 8,
   "metadata": {},
   "outputs": [
    {
     "ename": "ValueError",
     "evalue": "invalid literal for int() with base 10: '5y'",
     "output_type": "error",
     "traceback": [
      "\u001b[0;31m---------------------------------------------------------------------------\u001b[0m",
      "\u001b[0;31mValueError\u001b[0m                                Traceback (most recent call last)",
      "\u001b[1;32m/Users/hongxiao/Documents/Code/qranytrans/pytk/qr-any-trans/test.ipynb Cell 19'\u001b[0m in \u001b[0;36m<cell line: 2>\u001b[0;34m()\u001b[0m\n\u001b[1;32m      <a href='vscode-notebook-cell:/Users/hongxiao/Documents/Code/qranytrans/pytk/qr-any-trans/test.ipynb#ch0000018?line=0'>1</a>\u001b[0m patches_str \u001b[39m=\u001b[39m \u001b[39m\"\u001b[39m\u001b[39m1,2,3,5y,, ,, ,,6,7,4,3\u001b[39m\u001b[39m\"\u001b[39m\n\u001b[0;32m----> <a href='vscode-notebook-cell:/Users/hongxiao/Documents/Code/qranytrans/pytk/qr-any-trans/test.ipynb#ch0000018?line=1'>2</a>\u001b[0m patchs_num \u001b[39m=\u001b[39m \u001b[39msorted\u001b[39m(\u001b[39mset\u001b[39m([\u001b[39mint\u001b[39m(x) \u001b[39mfor\u001b[39;00m x \u001b[39min\u001b[39;00m \u001b[39mlist\u001b[39m(\u001b[39mfilter\u001b[39m(\u001b[39mlambda\u001b[39;00m y:y\u001b[39m.\u001b[39mstrip() \u001b[39m!=\u001b[39m \u001b[39m\"\u001b[39m\u001b[39m\"\u001b[39m, patches_str\u001b[39m.\u001b[39msplit(\u001b[39m\"\u001b[39m\u001b[39m,\u001b[39m\u001b[39m\"\u001b[39m)))]))\n\u001b[1;32m      <a href='vscode-notebook-cell:/Users/hongxiao/Documents/Code/qranytrans/pytk/qr-any-trans/test.ipynb#ch0000018?line=2'>3</a>\u001b[0m \u001b[39mprint\u001b[39m(patchs_num)\n",
      "\u001b[1;32m/Users/hongxiao/Documents/Code/qranytrans/pytk/qr-any-trans/test.ipynb Cell 19'\u001b[0m in \u001b[0;36m<listcomp>\u001b[0;34m(.0)\u001b[0m\n\u001b[1;32m      <a href='vscode-notebook-cell:/Users/hongxiao/Documents/Code/qranytrans/pytk/qr-any-trans/test.ipynb#ch0000018?line=0'>1</a>\u001b[0m patches_str \u001b[39m=\u001b[39m \u001b[39m\"\u001b[39m\u001b[39m1,2,3,5y,, ,, ,,6,7,4,3\u001b[39m\u001b[39m\"\u001b[39m\n\u001b[0;32m----> <a href='vscode-notebook-cell:/Users/hongxiao/Documents/Code/qranytrans/pytk/qr-any-trans/test.ipynb#ch0000018?line=1'>2</a>\u001b[0m patchs_num \u001b[39m=\u001b[39m \u001b[39msorted\u001b[39m(\u001b[39mset\u001b[39m([\u001b[39mint\u001b[39;49m(x) \u001b[39mfor\u001b[39;00m x \u001b[39min\u001b[39;00m \u001b[39mlist\u001b[39m(\u001b[39mfilter\u001b[39m(\u001b[39mlambda\u001b[39;00m y:y\u001b[39m.\u001b[39mstrip() \u001b[39m!=\u001b[39m \u001b[39m\"\u001b[39m\u001b[39m\"\u001b[39m, patches_str\u001b[39m.\u001b[39msplit(\u001b[39m\"\u001b[39m\u001b[39m,\u001b[39m\u001b[39m\"\u001b[39m)))]))\n\u001b[1;32m      <a href='vscode-notebook-cell:/Users/hongxiao/Documents/Code/qranytrans/pytk/qr-any-trans/test.ipynb#ch0000018?line=2'>3</a>\u001b[0m \u001b[39mprint\u001b[39m(patchs_num)\n",
      "\u001b[0;31mValueError\u001b[0m: invalid literal for int() with base 10: '5y'"
     ]
    }
   ],
   "source": [
    "patches_str = \"1,2,3,5y,, ,, ,,6,7,4,3\"\n",
    "patchs_num = sorted(set([int(x) for x in list(filter(lambda y:y.strip() != \"\", patches_str.split(\",\")))]))\n",
    "print(patchs_num)"
   ]
  },
  {
   "cell_type": "code",
   "execution_count": null,
   "metadata": {},
   "outputs": [],
   "source": [
    "12, 32, 33, 42, 43, 64, 73, 96, 98, 126, 128, 134, 140, 144, 146, 147, 164, 168, 171, 173, 178, 179, 181, 262, 265, 271, 274, 283, 287, 288, 293, 295, 297, 298, 299, 300, 301, 303, 305, 310, 311, 312, 313, 315, 318, 330, 331, 344, 346, 373, 434, 441, 558, 646, 662, 667, 669, 673, 681, 683, 685, 700, 710, 715"
   ]
  },
  {
   "cell_type": "markdown",
   "metadata": {},
   "source": [
    "1、发送剩余时间\n",
    "2、解析剩余时间\n",
    "3、视频解析"
   ]
  },
  {
   "cell_type": "code",
   "execution_count": 1,
   "metadata": {},
   "outputs": [
    {
     "ename": "",
     "evalue": "",
     "output_type": "error",
     "traceback": [
      "\u001b[1;31mThe Kernel crashed while executing code in the the current cell or a previous cell. Please review the code in the cell(s) to identify a possible cause of the failure. Click <a href='https://aka.ms/vscodeJupyterKernelCrash'>here</a> for more info. View Jupyter <a href='command:jupyter.viewOutput'>log</a> for further details."
     ]
    }
   ],
   "source": [
    "import cv2\n",
    "\n",
    "cap = cv2.VideoCapture(0)\n",
    "for i in range(300):\n",
    "    _, im = cap.read()\n",
    "    cv2.imshow(\"ori\", im)\n",
    "    cv2.waitKey(1)\n"
   ]
  },
  {
   "cell_type": "markdown",
   "metadata": {},
   "source": [
    "1.补帧时检查合法帧数、统计丢帧率、丢帧数、转换文件存入转换文件夹\n",
    "2.UI上显示version，握手包携带version， 解析器也显示version\n",
    "3.握手包携带base64 or base85，解析器也可以强行指定\n",
    "4.异或校验帧设计\n",
    "5.校验帧校验频率设计、写入参数化、二维码、解析器"
   ]
  }
 ],
 "metadata": {
  "kernelspec": {
   "display_name": "Python 3.7.8 ('venv': venv)",
   "language": "python",
   "name": "python3"
  },
  "language_info": {
   "codemirror_mode": {
    "name": "ipython",
    "version": 3
   },
   "file_extension": ".py",
   "mimetype": "text/x-python",
   "name": "python",
   "nbconvert_exporter": "python",
   "pygments_lexer": "ipython3",
   "version": "3.7.8"
  },
  "orig_nbformat": 4,
  "vscode": {
   "interpreter": {
    "hash": "454e92ac58e78d31d83a7e6406309a22a9833fa98fd3ee54ac4613199cc9e03a"
   }
  }
 },
 "nbformat": 4,
 "nbformat_minor": 2
}
